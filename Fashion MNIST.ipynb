{
 "cells": [
  {
   "cell_type": "markdown",
   "metadata": {},
   "source": [
    "## 1. Pytorch Basics"
   ]
  },
  {
   "cell_type": "code",
   "execution_count": 1,
   "metadata": {},
   "outputs": [],
   "source": [
    "import torch\n",
    "import numpy as np"
   ]
  },
  {
   "cell_type": "code",
   "execution_count": 2,
   "metadata": {},
   "outputs": [],
   "source": [
    "data=np.array([1,2,3,4,5,6,7,8]).astype(\"double\")"
   ]
  },
  {
   "cell_type": "markdown",
   "metadata": {},
   "source": [
    "#### Fout types\n",
    "* 1> Tensor class constructor\n",
    "* 2,3,4> Factory functions"
   ]
  },
  {
   "cell_type": "code",
   "execution_count": 3,
   "metadata": {},
   "outputs": [
    {
     "data": {
      "text/plain": [
       "tensor([1., 2., 3., 4., 5., 6., 7., 8.], dtype=torch.float64)"
      ]
     },
     "execution_count": 3,
     "metadata": {},
     "output_type": "execute_result"
    }
   ],
   "source": [
    "torch.Tensor(data) # copy\n",
    "torch.tensor(data) # copy\n",
    "torch.as_tensor(data) # share\n",
    "torch.from_numpy(data) # share"
   ]
  },
  {
   "cell_type": "markdown",
   "metadata": {},
   "source": [
    "Numer of elments in a tensor"
   ]
  },
  {
   "cell_type": "code",
   "execution_count": 4,
   "metadata": {},
   "outputs": [
    {
     "data": {
      "text/plain": [
       "8"
      ]
     },
     "execution_count": 4,
     "metadata": {},
     "output_type": "execute_result"
    }
   ],
   "source": [
    "t=torch.tensor(data)\n",
    "torch.tensor(t.shape).prod() #1\n",
    "t.numel()  #2\n",
    "# 1 & 2 are same"
   ]
  },
  {
   "cell_type": "markdown",
   "metadata": {},
   "source": [
    "#### Reshape and squeze"
   ]
  },
  {
   "cell_type": "code",
   "execution_count": 5,
   "metadata": {},
   "outputs": [
    {
     "data": {
      "text/plain": [
       "tensor([1., 2., 3., 4., 5., 6., 7., 8.], dtype=torch.float64)"
      ]
     },
     "execution_count": 5,
     "metadata": {},
     "output_type": "execute_result"
    }
   ],
   "source": [
    "t.reshape(2,-1) # -1 will find out the factor\n",
    "t.squeeze() # flatten it out"
   ]
  },
  {
   "cell_type": "markdown",
   "metadata": {},
   "source": [
    "Create batch of tensors using stack"
   ]
  },
  {
   "cell_type": "code",
   "execution_count": 6,
   "metadata": {},
   "outputs": [],
   "source": [
    "t1=torch.tensor([[1,2,3],\n",
    "             [2,3,5],\n",
    "             [6,8,9],\n",
    "            [0,3,1]])\n",
    "t2=torch.tensor([[1,0,3],\n",
    "             [0,3,1],\n",
    "             [6,6,9],\n",
    "            [6,8,9]])\n",
    "t3=torch.tensor([[5,2,6],\n",
    "             [2,3,5],\n",
    "             [5,5,9],\n",
    "            [6,6,9]])"
   ]
  },
  {
   "cell_type": "code",
   "execution_count": 7,
   "metadata": {},
   "outputs": [
    {
     "data": {
      "text/plain": [
       "torch.Size([3, 4, 3])"
      ]
     },
     "execution_count": 7,
     "metadata": {},
     "output_type": "execute_result"
    }
   ],
   "source": [
    "t4=torch.stack((t1,t2,t3))\n",
    "t4.shape"
   ]
  },
  {
   "cell_type": "code",
   "execution_count": 8,
   "metadata": {},
   "outputs": [
    {
     "data": {
      "text/plain": [
       "tensor([[[[1, 2, 3],\n",
       "          [2, 3, 5],\n",
       "          [6, 8, 9],\n",
       "          [0, 3, 1]]],\n",
       "\n",
       "\n",
       "        [[[1, 0, 3],\n",
       "          [0, 3, 1],\n",
       "          [6, 6, 9],\n",
       "          [6, 8, 9]]],\n",
       "\n",
       "\n",
       "        [[[5, 2, 6],\n",
       "          [2, 3, 5],\n",
       "          [5, 5, 9],\n",
       "          [6, 6, 9]]]])"
      ]
     },
     "execution_count": 8,
     "metadata": {},
     "output_type": "execute_result"
    }
   ],
   "source": [
    "t4.reshape([3,1,4,3]) # this will create color channel to the each image of stack\n",
    "# stack >> color channel >> dim1 >> dim2 "
   ]
  },
  {
   "cell_type": "markdown",
   "metadata": {},
   "source": [
    "Flatten the batch <br />\n",
    "We have to flatten each image while still maintaining batch axis"
   ]
  },
  {
   "cell_type": "code",
   "execution_count": 9,
   "metadata": {},
   "outputs": [
    {
     "data": {
      "text/plain": [
       "tensor([[1, 2, 3, 2, 3, 5, 6, 8, 9, 0, 3, 1],\n",
       "        [1, 0, 3, 0, 3, 1, 6, 6, 9, 6, 8, 9],\n",
       "        [5, 2, 6, 2, 3, 5, 5, 5, 9, 6, 6, 9]])"
      ]
     },
     "execution_count": 9,
     "metadata": {},
     "output_type": "execute_result"
    }
   ],
   "source": [
    "t4.flatten(start_dim=1) # Batch size=3"
   ]
  },
  {
   "cell_type": "code",
   "execution_count": 10,
   "metadata": {},
   "outputs": [
    {
     "data": {
      "text/plain": [
       "tensor([[2., 4.],\n",
       "        [3., 5.]])"
      ]
     },
     "execution_count": 10,
     "metadata": {},
     "output_type": "execute_result"
    }
   ],
   "source": [
    "# Elementwise operation \"+\" \"-\" (important topic: broadcasting)\n",
    "t1=torch.tensor([[1,2],\n",
    "                [2,3]],dtype=torch.float32)\n",
    "t2=torch.tensor([[1,2]],dtype=torch.float32)\n",
    "t1+t2"
   ]
  },
  {
   "cell_type": "markdown",
   "metadata": {},
   "source": [
    "##### Tensor reduction operation"
   ]
  },
  {
   "cell_type": "code",
   "execution_count": 11,
   "metadata": {},
   "outputs": [
    {
     "data": {
      "text/plain": [
       "tensor(1.9408)"
      ]
     },
     "execution_count": 11,
     "metadata": {},
     "output_type": "execute_result"
    }
   ],
   "source": [
    "t1=torch.tensor([[1,2],\n",
    "                [2,3],\n",
    "                [5,6]],dtype=torch.float32)\n",
    "t1.sum()\n",
    "t1.prod()\n",
    "t1.mean()\n",
    "t1.std()"
   ]
  },
  {
   "cell_type": "code",
   "execution_count": 12,
   "metadata": {},
   "outputs": [
    {
     "data": {
      "text/plain": [
       "tensor([ 3.,  5., 11.])"
      ]
     },
     "execution_count": 12,
     "metadata": {},
     "output_type": "execute_result"
    }
   ],
   "source": [
    "t1=torch.tensor([[1,2],\n",
    "                [2,3],\n",
    "                [5,6]],dtype=torch.float32)\n",
    "t1.sum(dim=0)\n",
    "t1.sum(dim=1)\n"
   ]
  },
  {
   "cell_type": "code",
   "execution_count": 13,
   "metadata": {},
   "outputs": [
    {
     "data": {
      "text/plain": [
       "tensor(6.)"
      ]
     },
     "execution_count": 13,
     "metadata": {},
     "output_type": "execute_result"
    }
   ],
   "source": [
    "t1.max()"
   ]
  },
  {
   "cell_type": "code",
   "execution_count": 14,
   "metadata": {},
   "outputs": [
    {
     "data": {
      "text/plain": [
       "tensor(5)"
      ]
     },
     "execution_count": 14,
     "metadata": {},
     "output_type": "execute_result"
    }
   ],
   "source": [
    "t1.argmax() ## after flatenning"
   ]
  },
  {
   "cell_type": "markdown",
   "metadata": {},
   "source": [
    "## 2. MNIST dataset and Fashion MNIST"
   ]
  },
  {
   "cell_type": "markdown",
   "metadata": {},
   "source": [
    "Modified National Institute of Standard and Technology\n",
    "Fashion MNIST: Zalando.com (German based)\n",
    "\n",
    "Process:\n",
    "1. Prepare the data\n",
    "2. Build model\n",
    "3. Train Model\n",
    "4. Analyze model result"
   ]
  },
  {
   "cell_type": "markdown",
   "metadata": {},
   "source": [
    "### 2.1 Prepare the data"
   ]
  },
  {
   "cell_type": "markdown",
   "metadata": {},
   "source": [
    "---\n",
    "ETL: Extract > Transform > Load: Two casses to do that 1. Dataset and 2. DataLoader\n",
    "____\n",
    "\n",
    "Dataloader: Wraps a dataset and provides access to the underlying data <br />\n",
    "Dataset: abstrtact class to represent data\n",
    "\n",
    "###### Torchvision package\n",
    "* Datasets (like MNIST)\n",
    "* Transforms\n",
    "* Models\n",
    "* Utils"
   ]
  },
  {
   "cell_type": "code",
   "execution_count": 15,
   "metadata": {},
   "outputs": [],
   "source": [
    "import torch\n",
    "import torchvision\n",
    "import torchvision.transforms as transforms\n",
    "import numpy as np\n",
    "import matplotlib.pyplot as plt"
   ]
  },
  {
   "cell_type": "code",
   "execution_count": 16,
   "metadata": {},
   "outputs": [],
   "source": [
    "### Extract and Transform operation\n",
    "\n",
    "# root: where data is located on the disc\n",
    "# train: for training data\n",
    "# transform: transform it to tensor\n",
    "train=torchvision.datasets.FashionMNIST(root=\"./data/FashionMNIST\",train=True,download=True,\n",
    "                                       transform=transforms.Compose([transforms.ToTensor()]))"
   ]
  },
  {
   "cell_type": "code",
   "execution_count": 17,
   "metadata": {},
   "outputs": [
    {
     "data": {
      "text/plain": [
       "tuple"
      ]
     },
     "execution_count": 17,
     "metadata": {},
     "output_type": "execute_result"
    }
   ],
   "source": [
    "type(train[10000])"
   ]
  },
  {
   "cell_type": "code",
   "execution_count": 18,
   "metadata": {},
   "outputs": [],
   "source": [
    "## Load data\n",
    "\n",
    "# Wraps a dataset and provides access to the underlying data and many other capabilities\n",
    "t_loader=torch.utils.data.DataLoader(train,batch_size=100)\n",
    "# torch.set_printoptions(linewidth=120)"
   ]
  },
  {
   "cell_type": "code",
   "execution_count": 19,
   "metadata": {},
   "outputs": [
    {
     "name": "stderr",
     "output_type": "stream",
     "text": [
      "c:\\users\\rishabh_ub\\appdata\\local\\programs\\python\\python36\\lib\\site-packages\\torchvision\\datasets\\mnist.py:50: UserWarning: test_labels has been renamed targets\n",
      "  warnings.warn(\"test_labels has been renamed targets\")\n"
     ]
    },
    {
     "data": {
      "text/plain": [
       "tensor([9, 0, 0,  ..., 3, 0, 5])"
      ]
     },
     "execution_count": 19,
     "metadata": {},
     "output_type": "execute_result"
    }
   ],
   "source": [
    "train.test_labels"
   ]
  },
  {
   "cell_type": "code",
   "execution_count": 20,
   "metadata": {},
   "outputs": [
    {
     "data": {
      "text/plain": [
       "<torch.utils.data.dataloader.DataLoader at 0x2bc3d2d7048>"
      ]
     },
     "execution_count": 20,
     "metadata": {},
     "output_type": "execute_result"
    }
   ],
   "source": [
    "t_loader"
   ]
  },
  {
   "cell_type": "code",
   "execution_count": 21,
   "metadata": {},
   "outputs": [
    {
     "name": "stderr",
     "output_type": "stream",
     "text": [
      "c:\\users\\rishabh_ub\\appdata\\local\\programs\\python\\python36\\lib\\site-packages\\torchvision\\datasets\\mnist.py:45: UserWarning: train_labels has been renamed targets\n",
      "  warnings.warn(\"train_labels has been renamed targets\")\n"
     ]
    },
    {
     "data": {
      "text/plain": [
       "tensor([6000, 6000, 6000, 6000, 6000, 6000, 6000, 6000, 6000, 6000])"
      ]
     },
     "execution_count": 21,
     "metadata": {},
     "output_type": "execute_result"
    }
   ],
   "source": [
    "# create bin to find the frequency of each category\n",
    "# Balanced \n",
    "train.train_labels.bincount()"
   ]
  },
  {
   "cell_type": "code",
   "execution_count": 22,
   "metadata": {},
   "outputs": [],
   "source": [
    "# Access one of the dataset\n",
    "sample=next(iter(train))"
   ]
  },
  {
   "cell_type": "code",
   "execution_count": 23,
   "metadata": {},
   "outputs": [
    {
     "name": "stdout",
     "output_type": "stream",
     "text": [
      "label 9\n"
     ]
    },
    {
     "data": {
      "image/png": "[encoded data removed]",
      "text/plain": [
       "<Figure size 432x288 with 1 Axes>"
      ]
     },
     "metadata": {
      "needs_background": "light"
     },
     "output_type": "display_data"
    }
   ],
   "source": [
    "image,label=train[0] ## or sample\n",
    "plt.imshow(image.squeeze(),cmap='gray')\n",
    "print('label',label)"
   ]
  },
  {
   "cell_type": "markdown",
   "metadata": {},
   "source": [
    "##### Work with batches"
   ]
  },
  {
   "cell_type": "code",
   "execution_count": 24,
   "metadata": {},
   "outputs": [
    {
     "name": "stdout",
     "output_type": "stream",
     "text": [
      "tensor([9, 0, 0, 3, 0, 2, 7, 2, 5, 5, 0, 9, 5, 5, 7, 9, 1, 0, 6, 4, 3, 1, 4, 8,\n",
      "        4, 3, 0, 2, 4, 4, 5, 3, 6, 6, 0, 8, 5, 2, 1, 6, 6, 7, 9, 5, 9, 2, 7, 3,\n",
      "        0, 3, 3, 3, 7, 2, 2, 6, 6, 8, 3, 3, 5, 0, 5, 5, 0, 2, 0, 0, 4, 1, 3, 1,\n",
      "        6, 3, 1, 4, 4, 6, 1, 9, 1, 3, 5, 7, 9, 7, 1, 7, 9, 9, 9, 3, 2, 9, 3, 6,\n",
      "        4, 1, 1, 8])\n",
      "torch.Size([100, 1, 28, 28]) torch.Size([100])\n"
     ]
    }
   ],
   "source": [
    "# instead of using train we are using t_loader or Dataloders\n",
    "batch=next(iter(t_loader))\n",
    "images,labels=batch\n",
    "print(labels)\n",
    "print(images.shape,labels.shape)"
   ]
  },
  {
   "cell_type": "markdown",
   "metadata": {},
   "source": [
    "torch grid"
   ]
  },
  {
   "cell_type": "code",
   "execution_count": 25,
   "metadata": {},
   "outputs": [
    {
     "name": "stdout",
     "output_type": "stream",
     "text": [
      "torch.Size([100, 1, 28, 28])\n",
      "Label\n"
     ]
    },
    {
     "data": {
      "image/png": "[encoded data removed]",
      "text/plain": [
       "<Figure size 1080x1080 with 1 Axes>"
      ]
     },
     "metadata": {
      "needs_background": "light"
     },
     "output_type": "display_data"
    }
   ],
   "source": [
    "# imshow all batches of images at once using grid\n",
    "print(images.shape)\n",
    "grid=torchvision.utils.make_grid(images,nrow=20)\n",
    "plt.figure(figsize=(15,15))\n",
    "plt.imshow(np.transpose(grid,(1,2,0)))\n",
    "print(\"Label\")"
   ]
  },
  {
   "cell_type": "markdown",
   "metadata": {},
   "source": [
    "### 2.2 Build the Model"
   ]
  },
  {
   "cell_type": "code",
   "execution_count": 26,
   "metadata": {},
   "outputs": [],
   "source": [
    "import torch.nn as nn\n",
    "\n",
    "## two components in a layer inside nn\n",
    "# transformation\n",
    "# collection of weights\n",
    "\n",
    "# 1. create a neural network class which extends the nn.nodule base class\n",
    "# 2. Defile layers as class attribute\n",
    "# 3. Implement the forward() method\n",
    "\n",
    "class net(nn.Module):\n",
    "    def __init__(self,):\n",
    "        super(net,self).__init__() # extending nn.module base class\n",
    "        self.layer=None\n",
    "    def forward(self,t):\n",
    "        tt=self.layer(t)\n",
    "        return tt\n",
    "\n",
    "\n",
    "## module class is keeping track of the weights\n",
    "# yet this class has single dummy layer as an attribute"
   ]
  },
  {
   "cell_type": "markdown",
   "metadata": {},
   "source": [
    "Real layer from pytorch instead dummy layer (linke cNN)"
   ]
  },
  {
   "cell_type": "code",
   "execution_count": 27,
   "metadata": {},
   "outputs": [],
   "source": [
    "class net(nn.Module):\n",
    "    def __init__(self):\n",
    "        super(net,self).__init__() # extending nn.module base class\n",
    "        self.conv1=nn.Conv2d(in_channels=1,out_channels=6,kernel_size=5)\n",
    "        self.conv2=nn.Conv2d(in_channels=6,out_channels=12,kernel_size=5)\n",
    "        \n",
    "        self.fc1=nn.Linear(in_features=12*4*4,out_features=120)\n",
    "        self.fc2=nn.Linear(in_features=120,out_features=60)\n",
    "        self.out=nn.Linear(in_features=60,out_features=10)\n",
    "    def forward(self,t):\n",
    "        tt=self.layer(t)\n",
    "        return tt\n",
    "Nnet=net()"
   ]
  },
  {
   "cell_type": "code",
   "execution_count": 28,
   "metadata": {},
   "outputs": [
    {
     "name": "stdout",
     "output_type": "stream",
     "text": [
      "Conv2d(1, 6, kernel_size=(5, 5), stride=(1, 1))\n",
      "Conv2d(6, 12, kernel_size=(5, 5), stride=(1, 1))\n",
      "Linear(in_features=192, out_features=120, bias=True)\n",
      "Linear(in_features=120, out_features=60, bias=True)\n"
     ]
    }
   ],
   "source": [
    "### To check the structure of the new\n",
    "#print(help(net))\n",
    "print(Nnet.conv1)\n",
    "print(Nnet.conv2)\n",
    "print(Nnet.fc1)\n",
    "print(Nnet.fc2)"
   ]
  },
  {
   "cell_type": "code",
   "execution_count": 29,
   "metadata": {},
   "outputs": [
    {
     "data": {
      "text/plain": [
       "torch.Size([6, 1, 5, 5])"
      ]
     },
     "execution_count": 29,
     "metadata": {},
     "output_type": "execute_result"
    }
   ],
   "source": [
    "## checking shape of weights\n",
    "Nnet.conv1.weight.shape\n",
    "# first axis= Number of filters\n",
    "# second axis= Depth of each filter (depends on the input)\n",
    "# 3 & 4 axis = shape"
   ]
  },
  {
   "cell_type": "code",
   "execution_count": 30,
   "metadata": {},
   "outputs": [
    {
     "name": "stdout",
     "output_type": "stream",
     "text": [
      "<bound method Module.parameters of net(\n",
      "  (conv1): Conv2d(1, 6, kernel_size=(5, 5), stride=(1, 1))\n",
      "  (conv2): Conv2d(6, 12, kernel_size=(5, 5), stride=(1, 1))\n",
      "  (fc1): Linear(in_features=192, out_features=120, bias=True)\n",
      "  (fc2): Linear(in_features=120, out_features=60, bias=True)\n",
      "  (out): Linear(in_features=60, out_features=10, bias=True)\n",
      ")>\n"
     ]
    }
   ],
   "source": [
    "print(Nnet.parameters)"
   ]
  },
  {
   "cell_type": "markdown",
   "metadata": {},
   "source": [
    "### 2.2.1 Forward propogation + optim"
   ]
  },
  {
   "cell_type": "code",
   "execution_count": 31,
   "metadata": {},
   "outputs": [
    {
     "name": "stdout",
     "output_type": "stream",
     "text": [
      "1.6.0\n",
      "0.7.0\n"
     ]
    }
   ],
   "source": [
    "import torch.nn as nn\n",
    "import torch.nn.functional as F\n",
    "import torch\n",
    "import torchvision\n",
    "import torchvision.transforms as transforms\n",
    "import numpy as np\n",
    "import matplotlib.pyplot as plt\n",
    "import torch.optim as optim\n",
    "torch.set_printoptions(linewidth=120)\n",
    "## version\n",
    "print(torch.__version__)\n",
    "print(torchvision.__version__)"
   ]
  },
  {
   "cell_type": "code",
   "execution_count": 32,
   "metadata": {},
   "outputs": [],
   "source": [
    "train=torchvision.datasets.FashionMNIST(root=\"./data/FashionMNIST\",train=True,download=True,\n",
    "                                       transform=transforms.Compose([transforms.ToTensor()]))"
   ]
  },
  {
   "cell_type": "code",
   "execution_count": 33,
   "metadata": {},
   "outputs": [],
   "source": [
    "def get_n_correct(preds,labels):\n",
    "    return preds.argmax(dim=1).eq(labels).sum().item()"
   ]
  },
  {
   "cell_type": "code",
   "execution_count": 34,
   "metadata": {},
   "outputs": [],
   "source": [
    "class net(nn.Module):\n",
    "    def __init__(self):\n",
    "        super(net,self).__init__() # extending nn.module base class\n",
    "        self.conv1=nn.Conv2d(in_channels=1,out_channels=6,kernel_size=5)\n",
    "        self.conv2=nn.Conv2d(in_channels=6,out_channels=12,kernel_size=5)\n",
    "        \n",
    "        self.fc1=nn.Linear(in_features=12*4*4,out_features=120)\n",
    "        self.fc2=nn.Linear(in_features=120,out_features=60)\n",
    "        self.out=nn.Linear(in_features=60,out_features=10)\n",
    "    \n",
    "    def forward(self,t):\n",
    "        ## implement forward pass\n",
    "        # Layer 1: t=t\n",
    "        \n",
    "        # Layer 2\n",
    "        t=self.conv1(t)\n",
    "        t=F.relu(t)\n",
    "        t=F.max_pool2d(t,kernel_size=2,stride=2)\n",
    "        \n",
    "        # Layer 3\n",
    "        t=self.conv2(t)\n",
    "        t=F.relu(t)\n",
    "        t=F.max_pool2d(t,kernel_size=2,stride=2)\n",
    "        # Layer 4\n",
    "        t=t.reshape(-1,12*4*4)\n",
    "        t=self.fc1(t)\n",
    "        t=F.relu(t)\n",
    "\n",
    "        # Layer 5\n",
    "        t=self.fc2(t)\n",
    "        t=F.relu(t)\n",
    "\n",
    "        # Out\n",
    "        t=self.out(t)\n",
    "        # t=F.softmax(t,dim=1) ## can use\n",
    "        # \n",
    "        return t"
   ]
  },
  {
   "cell_type": "markdown",
   "metadata": {},
   "source": [
    "#### Train with single batch"
   ]
  },
  {
   "cell_type": "code",
   "execution_count": 35,
   "metadata": {},
   "outputs": [],
   "source": [
    "Nnet=net()\n",
    "\n",
    "t_loader=torch.utils.data.DataLoader(train,batch_size=100)\n",
    "optimizer=optim.Adam(Nnet.parameters(),lr=0.01) ## different types of optimizer: adam and sgd\n",
    "## parameters are the weights\n",
    "\n",
    "batch=next(iter(t_loader)) ## unpacking\n",
    "images,labels=batch\n",
    "\n",
    "pred=Nnet(images)\n",
    "\n",
    "loss=F.cross_entropy(pred,labels)\n",
    "loss.backward() ############# calculate the gradients ########\n",
    "optimizer.step() ############ update the weight #########\n",
    "\n",
    "pred=Nnet(images)\n",
    "loss=F.cross_entropy(pred,labels)"
   ]
  },
  {
   "cell_type": "markdown",
   "metadata": {},
   "source": [
    "#### Multiple epochs"
   ]
  },
  {
   "cell_type": "code",
   "execution_count": 36,
   "metadata": {},
   "outputs": [
    {
     "name": "stdout",
     "output_type": "stream",
     "text": [
      "epoch: 0 | total loss: 338.3614236712456 | correct items: 47301\n",
      "epoch: 1 | total loss: 231.45626184344292 | correct items: 51421\n",
      "epoch: 2 | total loss: 212.86497217416763 | correct items: 52063\n",
      "epoch: 3 | total loss: 204.66203613579273 | correct items: 52405\n",
      "epoch: 4 | total loss: 197.88489785790443 | correct items: 52687\n"
     ]
    }
   ],
   "source": [
    "Nnet=net()\n",
    "\n",
    "t_loader=torch.utils.data.DataLoader(train,batch_size=100)\n",
    "optimizer=optim.Adam(Nnet.parameters(),lr=0.01)\n",
    "\n",
    "\n",
    "for epoch in range(5):\n",
    "    t_loss=0\n",
    "    t_correct=0\n",
    "    for batch in t_loader:\n",
    "        images,labels=batch\n",
    "\n",
    "        pred=Nnet(images)\n",
    "        loss=F.cross_entropy(pred,labels)\n",
    "\n",
    "        optimizer.zero_grad() ## avoid accumilation of gradients of previous loop\n",
    "        loss.backward() ############# calculate the gradients ########\n",
    "        optimizer.step() ############ update the weight #########\n",
    "        t_loss+=loss.item()\n",
    "        t_correct+=get_n_correct(pred,labels)\n",
    "    print(\"epoch:\",epoch+1,\"| total loss:\",t_loss,\"| correct items:\",t_correct,\" out of \", 60000)"
   ]
  },
  {
   "cell_type": "code",
   "execution_count": 37,
   "metadata": {},
   "outputs": [
    {
     "name": "stdout",
     "output_type": "stream",
     "text": [
      "0.8781166666666667\n"
     ]
    }
   ],
   "source": [
    "### check accuracy\n",
    "print(t_correct/len(train))"
   ]
  },
  {
   "cell_type": "markdown",
   "metadata": {},
   "source": [
    "## Confusion Matrix"
   ]
  },
  {
   "cell_type": "code",
   "execution_count": 38,
   "metadata": {},
   "outputs": [
    {
     "name": "stdout",
     "output_type": "stream",
     "text": [
      "60000\n"
     ]
    }
   ],
   "source": [
    "print(len(train))"
   ]
  },
  {
   "cell_type": "code",
   "execution_count": 39,
   "metadata": {},
   "outputs": [],
   "source": [
    "def all_prediction(model,loader):\n",
    "    all_pred=torch.tensor([])\n",
    "    for batch in loader:\n",
    "        images,labels=batch\n",
    "        preds=model(images)\n",
    "        all_pred=torch.cat((all_pred,preds),dim=0)\n",
    "    return all_pred"
   ]
  },
  {
   "cell_type": "code",
   "execution_count": 40,
   "metadata": {},
   "outputs": [],
   "source": [
    "pred_loader=torch.utils.data.DataLoader(train,batch_size=10000)\n",
    "train_preds=all_prediction(Nnet,pred_loader)"
   ]
  },
  {
   "cell_type": "code",
   "execution_count": 41,
   "metadata": {},
   "outputs": [
    {
     "data": {
      "text/plain": [
       "torch.Size([60000, 10])"
      ]
     },
     "execution_count": 41,
     "metadata": {},
     "output_type": "execute_result"
    }
   ],
   "source": [
    "train_preds.shape"
   ]
  },
  {
   "cell_type": "markdown",
   "metadata": {},
   "source": [
    "### Turn off gradient tracking"
   ]
  },
  {
   "cell_type": "code",
   "execution_count": 42,
   "metadata": {},
   "outputs": [
    {
     "data": {
      "text/plain": [
       "True"
      ]
     },
     "execution_count": 42,
     "metadata": {},
     "output_type": "execute_result"
    }
   ],
   "source": [
    "## check\n",
    "train_preds.requires_grad\n",
    "## extra overhead"
   ]
  },
  {
   "cell_type": "code",
   "execution_count": 43,
   "metadata": {},
   "outputs": [
    {
     "data": {
      "text/plain": [
       "torch.Size([60000, 10])"
      ]
     },
     "execution_count": 43,
     "metadata": {},
     "output_type": "execute_result"
    }
   ],
   "source": [
    "with torch.no_grad():\n",
    "    pred_loader=torch.utils.data.DataLoader(train,batch_size=10000)\n",
    "    train_preds=all_prediction(Nnet,pred_loader)\n",
    "train_preds.shape    \n",
    "## or use @torch.no_grad() before all_prediction function (decorate function)"
   ]
  },
  {
   "cell_type": "markdown",
   "metadata": {},
   "source": [
    "Stack both prediction and labels in a stack"
   ]
  },
  {
   "cell_type": "code",
   "execution_count": 44,
   "metadata": {},
   "outputs": [],
   "source": [
    "stackk=torch.stack((train.targets,train_preds.argmax(dim=1)),dim=1)"
   ]
  },
  {
   "cell_type": "code",
   "execution_count": 45,
   "metadata": {},
   "outputs": [],
   "source": [
    "c_matrix=torch.zeros(10,10,dtype=torch.int64)\n",
    "for val in stackk:\n",
    "    j,k=val.tolist()\n",
    "    c_matrix[j,k]=c_matrix[j,k]+1"
   ]
  },
  {
   "cell_type": "code",
   "execution_count": 46,
   "metadata": {},
   "outputs": [
    {
     "data": {
      "text/plain": [
       "tensor([[5599,    2,   72,  149,   11,    3,  134,    1,   29,    0],\n",
       "        [  38, 5784,    3,  159,    4,    3,    6,    1,    2,    0],\n",
       "        [ 110,    9, 4280,  103, 1061,    2,  377,    1,   56,    1],\n",
       "        [ 246,   28,    4, 5539,  120,    0,   55,    0,    8,    0],\n",
       "        [  23,   13,  274,  428, 4754,    0,  452,    0,   56,    0],\n",
       "        [   2,    3,    1,    3,    0, 5613,    0,  283,   10,   85],\n",
       "        [1788,   18,  544,  196,  549,    1, 2830,    1,   73,    0],\n",
       "        [   0,    0,    0,    0,    0,   17,    0, 5924,    2,   57],\n",
       "        [  35,    1,   33,   49,   14,   16,   29,   13, 5807,    3],\n",
       "        [   0,    0,    0,    8,    0,   13,    0,  439,    5, 5535]])"
      ]
     },
     "execution_count": 46,
     "metadata": {},
     "output_type": "execute_result"
    }
   ],
   "source": [
    "c_matrix"
   ]
  },
  {
   "cell_type": "code",
   "execution_count": 47,
   "metadata": {},
   "outputs": [
    {
     "data": {
      "image/png": "[encoded data removed]",
      "text/plain": [
       "<Figure size 288x288 with 2 Axes>"
      ]
     },
     "metadata": {
      "needs_background": "light"
     },
     "output_type": "display_data"
    }
   ],
   "source": [
    "plt.matshow(c_matrix)\n",
    "plt.colorbar()\n",
    "plt.show()"
   ]
  },
  {
   "cell_type": "code",
   "execution_count": 48,
   "metadata": {},
   "outputs": [
    {
     "name": "stdout",
     "output_type": "stream",
     "text": [
      "1.6.0\n",
      "0.7.0\n"
     ]
    }
   ],
   "source": [
    "print(torch.__version__)\n",
    "print(torchvision.__version__)"
   ]
  },
  {
   "cell_type": "markdown",
   "metadata": {},
   "source": [
    "## Tensorboard\n",
    "\n",
    "use tensorboard --logdir=runs in pytorch directory"
   ]
  },
  {
   "cell_type": "code",
   "execution_count": 49,
   "metadata": {},
   "outputs": [],
   "source": [
    "from torch.utils.tensorboard import SummaryWriter"
   ]
  },
  {
   "cell_type": "code",
   "execution_count": 50,
   "metadata": {},
   "outputs": [
    {
     "name": "stdout",
     "output_type": "stream",
     "text": [
      "epoch: 0 | total loss: 335.0841243863106 | correct items: 47324\n",
      "epoch: 1 | total loss: 229.43215061724186 | correct items: 51566\n",
      "epoch: 2 | total loss: 213.43922033905983 | correct items: 52137\n",
      "epoch: 3 | total loss: 202.04630641639233 | correct items: 52445\n",
      "epoch: 4 | total loss: 197.67567867040634 | correct items: 52562\n",
      "epoch: 5 | total loss: 192.70229543745518 | correct items: 52790\n",
      "epoch: 6 | total loss: 185.55227084457874 | correct items: 52995\n",
      "epoch: 7 | total loss: 185.08560110628605 | correct items: 53095\n",
      "epoch: 8 | total loss: 183.42337694764137 | correct items: 53204\n",
      "epoch: 9 | total loss: 185.20740470290184 | correct items: 53185\n"
     ]
    }
   ],
   "source": [
    "#### training with tensorboard\n",
    "Nnet=net()\n",
    "\n",
    "tb=SummaryWriter()\n",
    "\n",
    "images,labels=next(iter(t_loader))\n",
    "grid=torchvision.utils.make_grid(images)\n",
    "\n",
    "tb.add_image(\"images\",grid)\n",
    "tb.add_graph(Nnet,images)\n",
    "tb.close()\n",
    "\n",
    "t_loader=torch.utils.data.DataLoader(train,batch_size=100)\n",
    "optimizer=optim.Adam(Nnet.parameters(),lr=0.01)\n",
    "\n",
    "\n",
    "for epoch in range(10):\n",
    "    t_loss=0\n",
    "    t_correct=0\n",
    "    for batch in t_loader:\n",
    "        images,labels=batch\n",
    "\n",
    "        pred=Nnet(images)\n",
    "        loss=F.cross_entropy(pred,labels)\n",
    "\n",
    "        optimizer.zero_grad() ## avoid accumilation of gradients of previous loop\n",
    "        loss.backward() ############# calculate the gradients ########\n",
    "        optimizer.step() ############ update the weight #########\n",
    "        t_loss+=loss.item()\n",
    "        t_correct+=get_n_correct(pred,labels)\n",
    "        \n",
    "    tb.add_scalar('Loss', t_loss, epoch)\n",
    "    tb.add_scalar('Number Correct', t_correct, epoch)\n",
    "    tb.add_scalar('Accuracy', t_correct / len(train), epoch)\n",
    "\n",
    "    tb.add_histogram('conv1.bias', Nnet.conv1.bias, epoch)\n",
    "    tb.add_histogram('conv1.weight', Nnet.conv1.weight, epoch)\n",
    "    tb.add_histogram('conv1.weight.grad',Nnet.conv1.weight.grad,epoch)\n",
    "    print(\"epoch:\",epoch+1,\"| total loss:\",t_loss,\"| correct items:\",t_correct,\" out of \", 60000)\n",
    "tb.close()"
   ]
  },
  {
   "cell_type": "code",
   "execution_count": null,
   "metadata": {},
   "outputs": [],
   "source": []
  },
  {
   "cell_type": "code",
   "execution_count": null,
   "metadata": {},
   "outputs": [],
   "source": []
  },
  {
   "cell_type": "code",
   "execution_count": null,
   "metadata": {},
   "outputs": [],
   "source": []
  }
 ],
 "metadata": {
  "kernelspec": {
   "display_name": "Python 3",
   "language": "python",
   "name": "python3"
  },
  "language_info": {
   "codemirror_mode": {
    "name": "ipython",
    "version": 3
   },
   "file_extension": ".py",
   "mimetype": "text/x-python",
   "name": "python",
   "nbconvert_exporter": "python",
   "pygments_lexer": "ipython3",
   "version": "3.6.1"
  }
 },
 "nbformat": 4,
 "nbformat_minor": 4
}
